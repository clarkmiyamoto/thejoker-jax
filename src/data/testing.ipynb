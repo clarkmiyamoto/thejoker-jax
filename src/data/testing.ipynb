{
 "cells": [
  {
   "cell_type": "code",
   "execution_count": 9,
   "id": "1e3c1097",
   "metadata": {},
   "outputs": [],
   "source": [
    "from astroquery.sdss import SDSS\n",
    "import numpy as np"
   ]
  },
  {
   "cell_type": "code",
   "execution_count": 6,
   "id": "2202741b",
   "metadata": {},
   "outputs": [],
   "source": [
    "def get_apstarId(visits: int=7, top: int=50):\n",
    "  '''\n",
    "  Args:\n",
    "    - count: Star must have more than `visits` number of visits\n",
    "\n",
    "  Returns:\n",
    "    - res. Has columns 'apogee_id', 'apstar_id'\n",
    "  '''\n",
    "  query = f\"\"\"\n",
    "  SELECT TOP {str(top)} s.apogee_id, s.apstar_id, s.nvisits\n",
    "  FROM apogeeStar AS s\n",
    "  WHERE s.nvisits > 7\n",
    "  \"\"\"\n",
    "  res = SDSS.query_sql(query, data_release=19)\n",
    "\n",
    "  return res"
   ]
  },
  {
   "cell_type": "code",
   "execution_count": 14,
   "id": "9f3c7337",
   "metadata": {},
   "outputs": [
    {
     "data": {
      "text/plain": [
       "(50, 50)"
      ]
     },
     "execution_count": 14,
     "metadata": {},
     "output_type": "execute_result"
    }
   ],
   "source": [
    "res = get_apstarId()\n",
    "arr = np.array(res['apogee_id'])\n",
    "len(np.unique(arr)), len(arr)"
   ]
  },
  {
   "cell_type": "code",
   "execution_count": null,
   "id": "bda5e5b1",
   "metadata": {},
   "outputs": [],
   "source": []
  }
 ],
 "metadata": {
  "kernelspec": {
   "display_name": "thejoker",
   "language": "python",
   "name": "python3"
  },
  "language_info": {
   "codemirror_mode": {
    "name": "ipython",
    "version": 3
   },
   "file_extension": ".py",
   "mimetype": "text/x-python",
   "name": "python",
   "nbconvert_exporter": "python",
   "pygments_lexer": "ipython3",
   "version": "3.13.2"
  }
 },
 "nbformat": 4,
 "nbformat_minor": 5
}
