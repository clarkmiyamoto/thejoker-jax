{
 "cells": [
  {
   "cell_type": "code",
   "execution_count": 1,
   "id": "3c752cbb",
   "metadata": {},
   "outputs": [
    {
     "name": "stdout",
     "output_type": "stream",
     "text": [
      "Interactive Radial Velocity Data Generator\n",
      "==================================================\n",
      "Use the sliders and text boxes below to adjust parameters:\n",
      "- Time/Period: Controls how many orbits are observed\n",
      "- K/σ: Controls signal-to-noise ratio\n",
      "- Other parameters: Direct input for orbital and observation settings\n",
      "\n"
     ]
    },
    {
     "data": {
      "application/vnd.jupyter.widget-view+json": {
       "model_id": "f6c62e98066d47c8a351119514913005",
       "version_major": 2,
       "version_minor": 0
      },
      "text/plain": [
       "VBox(children=(HTML(value='<h3>Main Controls</h3>'), FloatSlider(value=3.33, description='Time/Period:', layou…"
      ]
     },
     "metadata": {},
     "output_type": "display_data"
    },
    {
     "data": {
      "application/vnd.jupyter.widget-view+json": {
       "model_id": "983ed5b74af647648434d03773c5f898",
       "version_major": 2,
       "version_minor": 0
      },
      "text/plain": [
       "Output()"
      ]
     },
     "metadata": {},
     "output_type": "display_data"
    }
   ],
   "source": [
    "from phase_diagram import *\n",
    "_ = main()"
   ]
  },
  {
   "cell_type": "code",
   "execution_count": null,
   "id": "b02b2b0a",
   "metadata": {},
   "outputs": [],
   "source": []
  }
 ],
 "metadata": {
  "kernelspec": {
   "display_name": "thejoker",
   "language": "python",
   "name": "python3"
  },
  "language_info": {
   "codemirror_mode": {
    "name": "ipython",
    "version": 3
   },
   "file_extension": ".py",
   "mimetype": "text/x-python",
   "name": "python",
   "nbconvert_exporter": "python",
   "pygments_lexer": "ipython3",
   "version": "3.11.13"
  }
 },
 "nbformat": 4,
 "nbformat_minor": 5
}
