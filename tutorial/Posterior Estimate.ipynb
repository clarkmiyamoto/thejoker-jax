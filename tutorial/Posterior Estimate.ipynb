{
 "cells": [
  {
   "cell_type": "code",
   "execution_count": null,
   "metadata": {
    "vscode": {
     "languageId": "plaintext"
    }
   },
   "outputs": [],
   "source": [
    "def model(time, rv_err, y=None):\n",
    "    logPeriod_min = jnp.log(1)\n",
    "    logPeriod_max = jnp.log(10)\n",
    "\n",
    "    mean_s = 0.0\n",
    "    std_s = 1.0\n",
    "\n",
    "    # Setup\n",
    "    a = 0.867\n",
    "    b = 3.03\n",
    "\n",
    "    # Priors\n",
    "    logPeriod = numpyro.sample(\"logPeriod\", dist.Uniform(logPeriod_min, logPeriod_max))\n",
    "    eccentricity = numpyro.sample(\"eccentricity\", dist.Beta(a, b))\n",
    "    omega = numpyro.sample(\"$\\\\omega$\", dist.Uniform(0.0, 2*jnp.pi))\n",
    "    phi0 = numpyro.sample(\"$\\\\phi_0$\", dist.Uniform(0.0, 2*jnp.pi))\n",
    "    logJitter = numpyro.sample(\"logJitter\", dist.Normal(mean_s, std_s))\n",
    "    K = numpyro.sample(\"K\", dist.Uniform(0.0, 100.0))\n",
    "    v0 = numpyro.sample(\"$v_0$\", dist.Uniform(-100.0, 100.0))\n",
    "\n",
    "    period = numpyro.deterministic(\"period\", jnp.exp(logPeriod))\n",
    "    jitter = numpyro.deterministic(\"jitter\", jnp.exp(logJitter))\n",
    "    \n",
    "    # Likelihood\n",
    "    rv = velocity(time, period, eccentricity, omega, phi0, K, v0)\n",
    "    \n",
    "    # the likelihood function\n",
    "    numpyro.sample(\"raidalVelocity\", dist.Normal(rv, rv_err + jitter), obs=y)"
   ]
  },
  {
   "cell_type": "code",
   "execution_count": null,
   "metadata": {
    "vscode": {
     "languageId": "plaintext"
    }
   },
   "outputs": [],
   "source": [
    "time = time_obs\n",
    "rv_err = rv_err\n",
    "rv_obs = rv_obs\n",
    "\n",
    "sampler = infer.MCMC(\n",
    "    infer.NUTS(model),\n",
    "    num_warmup=500,\n",
    "    num_samples=1000,\n",
    "    num_chains=1,\n",
    "    progress_bar=True,\n",
    ")\n",
    "\n",
    "sampler.run(jax.random.PRNGKey(6), time, rv_err, y=rv_obs)\n"
   ]
  },
  {
   "cell_type": "code",
   "execution_count": null,
   "metadata": {
    "vscode": {
     "languageId": "plaintext"
    }
   },
   "outputs": [],
   "source": [
    "samples_df = pd.DataFrame(sampler.get_samples())\n",
    "samples_df.drop(columns=[\"logJitter\", \"logPeriod\"], inplace=True)\n",
    "\n",
    "# Visualization\n",
    "g = sns.PairGrid(samples_df, corner=True)\n",
    "g.map_lower(sns.scatterplot, s=5, color='black',)\n",
    "g.map_lower(sns.histplot, bins=30, pthresh=.005, cmap='mako')\n",
    "g.map_lower(sns.kdeplot, levels=5, color='white', linewidths=1)\n",
    "g.map_diag(sns.kdeplot, )\n",
    "plt.show()"
   ]
  }
 ],
 "metadata": {
  "language_info": {
   "name": "python"
  }
 },
 "nbformat": 4,
 "nbformat_minor": 2
}
