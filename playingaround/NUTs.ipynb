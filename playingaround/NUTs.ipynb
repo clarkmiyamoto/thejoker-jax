{
 "cells": [
  {
   "cell_type": "code",
   "execution_count": 16,
   "metadata": {},
   "outputs": [
    {
     "name": "stdout",
     "output_type": "stream",
     "text": [
      "The autoreload extension is already loaded. To reload it, use:\n",
      "  %reload_ext autoreload\n"
     ]
    }
   ],
   "source": [
    "%load_ext autoreload\n",
    "%autoreload 2"
   ]
  },
  {
   "cell_type": "code",
   "execution_count": 17,
   "metadata": {},
   "outputs": [],
   "source": [
    "import sys\n",
    "import os\n",
    "\n",
    "parent_dir = os.path.abspath(os.path.join(os.getcwd(), '..'))\n",
    "sys.path.append(parent_dir)\n",
    "\n",
    "import numpy as np\n",
    "\n",
    "import matplotlib.pyplot as plt\n",
    "\n",
    "from src.sampler_nuts import nuts_sampler, nuts_sampler_side_move\n"
   ]
  },
  {
   "cell_type": "markdown",
   "metadata": {},
   "source": [
    "# Regular NUTs"
   ]
  },
  {
   "cell_type": "code",
   "execution_count": 15,
   "metadata": {},
   "outputs": [
    {
     "name": "stdout",
     "output_type": "stream",
     "text": [
      "Mean acceptance rate: [0.99221019 0.99221785 0.99286596 0.99198096]\n",
      "\n",
      "Empirical mean: [array([0.01840941, 0.00419406]), array([ 0.00032169, -0.02170667]), array([0.02035895, 0.0349395 ]), array([-0.05924829, -0.06577955])]\n",
      "\n",
      "Empirical covariance:\n",
      "\n",
      "[[0.87038764 0.69483781]\n",
      " [0.69483781 1.31483268]]\n",
      "[[0.87532261 0.70486718]\n",
      " [0.70486718 1.32462156]]\n",
      "[[0.84902211 0.71232135]\n",
      " [0.71232135 1.31397485]]\n",
      "[[0.97118616 0.80115099]\n",
      " [0.80115099 1.44052789]]\n"
     ]
    }
   ],
   "source": [
    "# Correlated Gaussian target\n",
    "Sigma = np.array([[1.0, 0.8],\n",
    "                  [0.8, 1.5]])\n",
    "Sigma_inv = np.linalg.inv(Sigma)\n",
    "\n",
    "def logp(q):\n",
    "    return -0.5 * np.einsum(\"bi,ij,bj->b\", q, Sigma_inv, q)\n",
    "\n",
    "def grad_logp(q):\n",
    "    return -q @ Sigma_inv.T\n",
    "\n",
    "\n",
    "# Run NUTs Sampler\n",
    "batch_size = 4\n",
    "\n",
    "samples, info = nuts_sampler(\n",
    "    log_prob         = logp,\n",
    "    grad_log_prob    = grad_logp,\n",
    "    num_samples      = 5000,\n",
    "    initial_positions= np.zeros((batch_size, 2)),\n",
    "    step_size        = 0.3\n",
    ")\n",
    "\n",
    "print(\"Mean acceptance rate:\", info[\"accept_rate_mean\"])\n",
    "print('')\n",
    "print(\"Empirical mean:\", [np.mean(sample, axis=0) for sample in samples])\n",
    "print('')\n",
    "print(\"Empirical covariance:\\n\")\n",
    "for output in [np.cov(sample.T) for sample in samples]:\n",
    "    print(output)"
   ]
  },
  {
   "cell_type": "markdown",
   "metadata": {},
   "source": [
    "# Side-Step NUTs"
   ]
  },
  {
   "cell_type": "code",
   "execution_count": 25,
   "metadata": {},
   "outputs": [
    {
     "name": "stderr",
     "output_type": "stream",
     "text": [
      "100%|██████████| 5000/5000 [05:29<00:00, 15.17it/s]\n"
     ]
    }
   ],
   "source": [
    "def logp(q):    \n",
    "    return -0.5 * np.einsum(\"bi,ij,bj->b\", q, Sigma_inv, q)\n",
    "\n",
    "def grad_logp(q):\n",
    "    return -q @ Sigma_inv.T\n",
    "\n",
    "n_chains_per_group = 3\n",
    "n_chains = 2 * n_chains_per_group\n",
    "\n",
    "samples, info = nuts_sampler_side_move(\n",
    "    log_prob         = logp,\n",
    "    grad_log_prob    = grad_logp,\n",
    "    num_samples      = 5000,\n",
    "    initial_positions= np.zeros((n_chains, 2)),\n",
    "    n_chains_per_group = n_chains_per_group\n",
    ")"
   ]
  },
  {
   "cell_type": "code",
   "execution_count": 26,
   "metadata": {},
   "outputs": [
    {
     "name": "stdout",
     "output_type": "stream",
     "text": [
      "Mean acceptance rate: [nan nan nan nan nan nan]\n",
      "\n",
      "Empirical mean: [array([-0.07241323, -0.15616043]), array([0.09077687, 0.02863648]), array([0.14708811, 0.27988946]), array([0.01192773, 0.13302205]), array([0.14302369, 0.30040758]), array([-0.01051927, -0.01828502])]\n",
      "\n",
      "Empirical covariance:\n",
      "\n",
      "[[0.96562599 0.88293167]\n",
      " [0.88293167 1.75146528]]\n",
      "[[1.27607709 0.96842618]\n",
      " [0.96842618 1.6262488 ]]\n",
      "[[1.17210086 0.88696659]\n",
      " [0.88696659 1.69532555]]\n",
      "[[0.98345297 0.71976464]\n",
      " [0.71976464 1.46594256]]\n",
      "[[1.07591927 0.84495099]\n",
      " [0.84495099 1.52508248]]\n",
      "[[1.02638834 0.79466393]\n",
      " [0.79466393 1.46689468]]\n"
     ]
    }
   ],
   "source": [
    "print(\"Mean acceptance rate:\", info[\"accept_rate_mean\"])\n",
    "print('')\n",
    "print(\"Empirical mean:\", [np.mean(sample, axis=0) for sample in samples])\n",
    "print('')\n",
    "print(\"Empirical covariance:\\n\")\n",
    "for output in [np.cov(sample.T) for sample in samples]:\n",
    "    print(output)"
   ]
  },
  {
   "cell_type": "code",
   "execution_count": null,
   "metadata": {},
   "outputs": [],
   "source": []
  }
 ],
 "metadata": {
  "kernelspec": {
   "display_name": "thejoker",
   "language": "python",
   "name": "python3"
  },
  "language_info": {
   "codemirror_mode": {
    "name": "ipython",
    "version": 3
   },
   "file_extension": ".py",
   "mimetype": "text/x-python",
   "name": "python",
   "nbconvert_exporter": "python",
   "pygments_lexer": "ipython3",
   "version": "3.13.2"
  }
 },
 "nbformat": 4,
 "nbformat_minor": 2
}
