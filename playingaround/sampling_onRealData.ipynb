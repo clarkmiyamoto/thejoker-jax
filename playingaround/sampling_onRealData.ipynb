{
 "cells": [
  {
   "cell_type": "code",
   "execution_count": 2,
   "metadata": {},
   "outputs": [],
   "source": [
    "%load_ext autoreload\n",
    "%autoreload 2"
   ]
  },
  {
   "cell_type": "code",
   "execution_count": 5,
   "metadata": {},
   "outputs": [],
   "source": [
    "import sys\n",
    "import os\n",
    "\n",
    "parent_dir = os.path.abspath(os.path.join(os.getcwd(), '..'))\n",
    "sys.path.append(parent_dir)\n",
    "\n",
    "import jax\n",
    "import jax.numpy as jnp\n",
    "\n",
    "import matplotlib.pyplot as plt\n",
    "\n",
    "from src.data.apogee import APOGEE_DATA"
   ]
  },
  {
   "cell_type": "markdown",
   "metadata": {},
   "source": [
    "# Get Real Data"
   ]
  },
  {
   "cell_type": "code",
   "execution_count": 3,
   "metadata": {},
   "outputs": [],
   "source": [
    "Data = APOGEE_DATA(filename='../src/data/allVisit-1.4-apo25m.fits')\n",
    "\n",
    "apogee_id = '2M14060352+5305489'\n",
    "times_mjd, radial_velocity, radial_velocity_error = Data.getRadialVelocity(apogee_id=apogee_id)\n",
    "times_mjd, radial_velocity, radial_velocity_error = jnp.array(times_mjd), jnp.array(radial_velocity), jnp.array(radial_velocity_error)"
   ]
  },
  {
   "cell_type": "code",
   "execution_count": 8,
   "metadata": {},
   "outputs": [
    {
     "data": {
      "image/png": "[encoded data removed]",
      "text/plain": [
       "<Figure size 640x480 with 1 Axes>"
      ]
     },
     "metadata": {},
     "output_type": "display_data"
    }
   ],
   "source": [
    "plt.scatter(times_mjd, radial_velocity)\n",
    "plt.xlabel('Time (MJD)')\n",
    "plt.ylabel('Radial Velocity (Units ?)')\n",
    "plt.title('Radial Velocity of ' + apogee_id)\n",
    "plt.show()"
   ]
  },
  {
   "cell_type": "code",
   "execution_count": 23,
   "metadata": {},
   "outputs": [
    {
     "data": {
      "text/plain": [
       "Array([102038400, 100224000,   9936000,  10022400,  12960000,   5184000,\n",
       "        10540800,   8035200,   7862400,  11145600,   3888000,  10022400,\n",
       "         8208000,   2764800,   2937600,   2505600,   6134400,   9763200,\n",
       "         3628800,   9849600,  10368000,  13478400,   2592000,         0,\n",
       "         1296000,   6048000,   7603200,    172800,  10800000,   7948800,\n",
       "          777600,    345600,    604800,  12355200,   5270400,   5702400,\n",
       "         2678400,    259200,   4924800,   7948800,  10195200,  10454400,\n",
       "          518400,  13564800,   5875200,   2851200,  10281600,   8121600,\n",
       "         3542400,  11059200,  12441600,  13651200,  10713600,   3801600,\n",
       "         7344000,  12096000,    691200,   5011200,   6307200,   2419200,\n",
       "         5961600,   7776000], dtype=int64)"
      ]
     },
     "execution_count": 23,
     "metadata": {},
     "output_type": "execute_result"
    }
   ],
   "source": [
    "times_seconds =  (times_mjd - times_mjd.min()) * 86400\n",
    "times_seconds"
   ]
  },
  {
   "cell_type": "markdown",
   "metadata": {},
   "source": [
    "# Likelihood of Radial Velocities"
   ]
  },
  {
   "cell_type": "code",
   "execution_count": 15,
   "metadata": {},
   "outputs": [
    {
     "data": {
      "text/plain": [
       "Array([0.2894377 , 0.27549377, 0.13342991, 0.11306085, 0.06905981,\n",
       "       0.17681322, 0.10368311, 1.5295473 , 0.07392159, 0.09116578,\n",
       "       0.08261801, 0.07766867, 0.07621671, 0.12354864, 0.10627155,\n",
       "       0.10146664, 0.15644634, 0.11200351, 0.0986087 , 0.07466043,\n",
       "       0.10000829, 0.12555936, 0.09145084, 0.13779724, 0.0824692 ,\n",
       "       0.11326265, 0.07449653, 0.09692411, 0.12120783, 0.08369293,\n",
       "       0.05408278, 0.07503295, 0.06919576, 0.10037524, 0.11160115,\n",
       "       0.11639911, 0.09301807, 0.06981166, 0.0986779 , 0.07077744,\n",
       "       0.10041747, 0.08258408, 0.08313985, 0.11632276, 0.11037798,\n",
       "       0.1053287 , 0.0826231 , 0.09956001, 0.09063673, 0.08485847,\n",
       "       0.08856864, 0.07070241, 0.09260528, 0.33931044, 0.07287458,\n",
       "       0.0868383 , 0.06985564, 0.3382601 , 0.1136953 , 0.17817062,\n",
       "       0.08452537,        nan], dtype=float64)"
      ]
     },
     "execution_count": 15,
     "metadata": {},
     "output_type": "execute_result"
    }
   ],
   "source": [
    "radial_velocity_error"
   ]
  },
  {
   "cell_type": "code",
   "execution_count": null,
   "metadata": {},
   "outputs": [
    {
     "ename": "NameError",
     "evalue": "name 'Likelihood' is not defined",
     "output_type": "error",
     "traceback": [
      "\u001b[31m---------------------------------------------------------------------------\u001b[39m",
      "\u001b[31mNameError\u001b[39m                                 Traceback (most recent call last)",
      "\u001b[36mCell\u001b[39m\u001b[36m \u001b[39m\u001b[32mIn[1]\u001b[39m\u001b[32m, line 1\u001b[39m\n\u001b[32m----> \u001b[39m\u001b[32m1\u001b[39m likelihood = \u001b[43mLikelihood\u001b[49m(times=times_seconds, \n\u001b[32m      2\u001b[39m                         observed_data=radial_velocity, \n\u001b[32m      3\u001b[39m                         uncertainity=radial_velocity_error)\n\u001b[32m      5\u001b[39m params = jnp.array([\u001b[32m2.0\u001b[39m, \u001b[32m1.1\u001b[39m, \u001b[32m0.1\u001b[39m, \u001b[32m2.0\u001b[39m, \u001b[32m1.0\u001b[39m, \u001b[32m1.0\u001b[39m])\n\u001b[32m      6\u001b[39m likelihood.velocity_model(params)\n",
      "\u001b[31mNameError\u001b[39m: name 'Likelihood' is not defined"
     ]
    }
   ],
   "source": [
    "likelihood = Likelihood(times=times_seconds, \n",
    "                        observed_data=radial_velocity, \n",
    "                        uncertainity=radial_velocity_error)\n",
    "\n",
    "# period, eccentricity, omega, phi0, K, v0\n",
    "params = jnp.array([2.0, 1.1, 0.1, 2.0, 1.0, 1.0])\n",
    "likelihood.velocity_model(params)"
   ]
  },
  {
   "cell_type": "code",
   "execution_count": null,
   "metadata": {},
   "outputs": [],
   "source": []
  }
 ],
 "metadata": {
  "kernelspec": {
   "display_name": "thejoker",
   "language": "python",
   "name": "python3"
  },
  "language_info": {
   "codemirror_mode": {
    "name": "ipython",
    "version": 3
   },
   "file_extension": ".py",
   "mimetype": "text/x-python",
   "name": "python",
   "nbconvert_exporter": "python",
   "pygments_lexer": "ipython3",
   "version": "3.13.2"
  }
 },
 "nbformat": 4,
 "nbformat_minor": 2
}
