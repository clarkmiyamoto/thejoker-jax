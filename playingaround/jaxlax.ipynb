{
 "cells": [
  {
   "cell_type": "code",
   "execution_count": 8,
   "metadata": {},
   "outputs": [],
   "source": [
    "import sys\n",
    "import os\n",
    "\n",
    "parent_dir = os.path.abspath(os.path.join(os.getcwd(), '..'))\n",
    "sys.path.append(parent_dir)\n",
    "\n",
    "\n",
    "import jax\n",
    "jax.config.update(\"jax_enable_x64\", True)\n",
    "import jax.numpy as jnp\n",
    "\n",
    "import matplotlib.pyplot as plt\n",
    "import seaborn as sns\n",
    "\n",
    "from src.sampler_jax import hmc, hamiltonian_side_move\n",
    "from src.visualize.corner import corner"
   ]
  },
  {
   "cell_type": "code",
   "execution_count": null,
   "metadata": {},
   "outputs": [
    {
     "name": "stderr",
     "output_type": "stream",
     "text": [
      " 48%|████▊     | 52526/109999 [01:10<01:06, 870.54it/s]"
     ]
    }
   ],
   "source": [
    "initial = jnp.array([0.0, 0.0, 0.0])\n",
    "cov = jnp.eye(3)\n",
    "\n",
    "def gaussian_log_prob(params):\n",
    "    return -0.5 * jnp.sum(params @ cov @ params)\n",
    "\n",
    "# Simulation Setup\n",
    "\n",
    "n_samples = 10**5\n",
    "burn_in = 10**4\n",
    "\n",
    "total_samples = n_samples + burn_in\n",
    "epsilon = 0.1\n",
    "L = 10\n",
    "n_chains = 1\n",
    "n_thin = 1\n",
    "\n",
    "# Burn-in\n",
    "samples, acceptance_rates = hmc(gaussian_log_prob, \n",
    "                                initial,  \n",
    "                                n_samples=total_samples,\n",
    "                                epsilon=epsilon,\n",
    "                                L=L,\n",
    "                                n_chains=n_chains,\n",
    "                                n_thin=n_thin,\n",
    "                                key=jax.random.PRNGKey(0))\n",
    "\n",
    "samples = samples.reshape(-1, len(initial))\n",
    "post_burn_in_samples = samples[burn_in:, :]\n",
    "\n",
    "print(acceptance_rates)\n",
    "corner(post_burn_in_samples.reshape(-1, len(initial)))"
   ]
  },
  {
   "cell_type": "code",
   "execution_count": null,
   "metadata": {},
   "outputs": [],
   "source": []
  }
 ],
 "metadata": {
  "kernelspec": {
   "display_name": "thejoker",
   "language": "python",
   "name": "python3"
  },
  "language_info": {
   "codemirror_mode": {
    "name": "ipython",
    "version": 3
   },
   "file_extension": ".py",
   "mimetype": "text/x-python",
   "name": "python",
   "nbconvert_exporter": "python",
   "pygments_lexer": "ipython3",
   "version": "3.13.2"
  }
 },
 "nbformat": 4,
 "nbformat_minor": 2
}
