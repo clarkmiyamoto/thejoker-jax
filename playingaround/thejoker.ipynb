{
 "cells": [
  {
   "cell_type": "code",
   "execution_count": 14,
   "id": "b1bc24bf",
   "metadata": {},
   "outputs": [],
   "source": [
    "import thejoker as tj\n",
    "import astropy.units as u\n",
    "import jax.numpy as jnp"
   ]
  },
  {
   "cell_type": "code",
   "execution_count": 2,
   "id": "f82f560c",
   "metadata": {},
   "outputs": [
    {
     "data": {
      "text/plain": [
       "(-10.0, 200.0)"
      ]
     },
     "execution_count": 2,
     "metadata": {},
     "output_type": "execute_result"
    },
    {
     "data": {
      "image/png": "[encoded data removed]",
      "text/plain": [
       "<Figure size 640x480 with 1 Axes>"
      ]
     },
     "metadata": {},
     "output_type": "display_data"
    }
   ],
   "source": [
    "t = [0., 49.452, 95.393, 127.587, 190.408]\n",
    "rv = [38.77, 39.70, 37.45, 38.31, 38.31] * u.km/u.s\n",
    "err = [0.184, 0.261, 0.112, 0.155, 0.223] * u.km/u.s\n",
    "data = tj.RVData(t=t, rv=rv, rv_err=err)\n",
    "ax = data.plot()  \n",
    "ax.set_xlim(-10, 200)  "
   ]
  },
  {
   "cell_type": "code",
   "execution_count": 3,
   "id": "f25a2a76",
   "metadata": {},
   "outputs": [],
   "source": [
    "import numpy as np\n",
    "prior = tj.JokerPrior.default(\n",
    "    P_min=2*u.day, P_max=256*u.day,\n",
    "    sigma_K0=30*u.km/u.s,\n",
    "    sigma_v=100*u.km/u.s\n",
    ")"
   ]
  },
  {
   "cell_type": "code",
   "execution_count": 7,
   "id": "d9a4df91",
   "metadata": {},
   "outputs": [
    {
     "data": {
      "text/html": [
       "<div><i>QTable length=14</i>\n",
       "<table id=\"table5061150096\" class=\"table-striped table-bordered table-condensed\">\n",
       "<thead><tr><th>P</th><th>e</th><th>omega</th><th>M0</th><th>s</th><th>K</th><th>v0</th></tr></thead>\n",
       "<thead><tr><th>d</th><th></th><th>rad</th><th>rad</th><th>km / s</th><th>km / s</th><th>km / s</th></tr></thead>\n",
       "<thead><tr><th>float64</th><th>float64</th><th>float64</th><th>float64</th><th>float64</th><th>float64</th><th>float64</th></tr></thead>\n",
       "<tr><td>2.241622462869278</td><td>0.0018101845917038123</td><td>1.339000174999511</td><td>2.561299723705905</td><td>0.0</td><td>1.6081799439020232</td><td>38.48117529022595</td></tr>\n",
       "<tr><td>3.194424327858451</td><td>0.106297702070496</td><td>2.613574953394283</td><td>-1.8067268856122005</td><td>0.0</td><td>1.4406054058943887</td><td>38.89005095485096</td></tr>\n",
       "<tr><td>130.45571808307912</td><td>0.22378552421471462</td><td>2.778872934342046</td><td>1.07955521792555</td><td>0.0</td><td>-1.6315118440187826</td><td>38.68657008002786</td></tr>\n",
       "<tr><td>12.58825086977535</td><td>0.6379863069099363</td><td>2.3371325707308572</td><td>-1.9505090274174217</td><td>0.0</td><td>-2.368996766858794</td><td>38.67553940106395</td></tr>\n",
       "<tr><td>63.24854180666426</td><td>0.7044257786276339</td><td>-3.1110099141839154</td><td>1.8946161910771928</td><td>0.0</td><td>16.181628487954104</td><td>34.710859397600146</td></tr>\n",
       "<tr><td>63.53409560921692</td><td>0.7973823410951388</td><td>1.6651630212374466</td><td>-2.161909065692663</td><td>0.0</td><td>-1.608936242025463</td><td>38.301385578936</td></tr>\n",
       "<tr><td>59.827857144764195</td><td>0.5586918060563335</td><td>1.784621914810138</td><td>-1.600815930643337</td><td>0.0</td><td>-1.0603793064738538</td><td>38.37348217419583</td></tr>\n",
       "<tr><td>63.723504877030464</td><td>0.019278952730242747</td><td>-1.868632935068993</td><td>3.0826799087832684</td><td>0.0</td><td>2.2974355201662533</td><td>37.95168934983204</td></tr>\n",
       "<tr><td>18.115013401720468</td><td>0.05913033648613802</td><td>2.128133840734805</td><td>-2.513277805333711</td><td>0.0</td><td>-1.3659634769747397</td><td>38.780960459983774</td></tr>\n",
       "<tr><td>62.01869334735131</td><td>0.014044204226869871</td><td>-1.8920844543971598</td><td>0.22285241681005716</td><td>0.0</td><td>-1.4955198077910858</td><td>38.07171336822648</td></tr>\n",
       "<tr><td>62.45238715697257</td><td>0.022362453159263218</td><td>-1.38994760371555</td><td>0.6201807251568919</td><td>0.0</td><td>-1.7548452386529099</td><td>37.91233874120693</td></tr>\n",
       "<tr><td>62.20935243322767</td><td>0.043284633206262135</td><td>0.7374700604995895</td><td>2.7856290814024884</td><td>0.0</td><td>-1.6382121858350505</td><td>37.97868416027154</td></tr>\n",
       "<tr><td>61.995348523983346</td><td>0.17296090381746074</td><td>-0.5728633133182174</td><td>-1.4397351159715677</td><td>0.0</td><td>1.2402683304592104</td><td>38.29311818002931</td></tr>\n",
       "<tr><td>8.457294041331501</td><td>0.05996781582771515</td><td>3.0905530771536593</td><td>-1.191913833924823</td><td>0.0</td><td>-1.1044637556434407</td><td>38.37060529182826</td></tr>\n",
       "</table></div>"
      ],
      "text/plain": [
       "<QTable length=14>\n",
       "        P                    e           ...         v0        \n",
       "        d                                ...       km / s      \n",
       "     float64              float64        ...      float64      \n",
       "------------------ --------------------- ... ------------------\n",
       " 2.241622462869278 0.0018101845917038123 ...  38.48117529022595\n",
       " 3.194424327858451     0.106297702070496 ...  38.89005095485096\n",
       "130.45571808307912   0.22378552421471462 ...  38.68657008002786\n",
       " 12.58825086977535    0.6379863069099363 ...  38.67553940106395\n",
       " 63.24854180666426    0.7044257786276339 ... 34.710859397600146\n",
       " 63.53409560921692    0.7973823410951388 ...    38.301385578936\n",
       "59.827857144764195    0.5586918060563335 ...  38.37348217419583\n",
       "63.723504877030464  0.019278952730242747 ...  37.95168934983204\n",
       "18.115013401720468   0.05913033648613802 ... 38.780960459983774\n",
       " 62.01869334735131  0.014044204226869871 ...  38.07171336822648\n",
       " 62.45238715697257  0.022362453159263218 ...  37.91233874120693\n",
       " 62.20935243322767  0.043284633206262135 ...  37.97868416027154\n",
       "61.995348523983346   0.17296090381746074 ...  38.29311818002931\n",
       " 8.457294041331501   0.05996781582771515 ...  38.37060529182826"
      ]
     },
     "execution_count": 7,
     "metadata": {},
     "output_type": "execute_result"
    }
   ],
   "source": [
    "joker = tj.TheJoker(prior)\n",
    "prior_samples = prior.sample(size=100_000)\n",
    "samples = joker.rejection_sample(data, prior_samples)\n",
    "samples.tbl"
   ]
  },
  {
   "cell_type": "code",
   "execution_count": 15,
   "id": "8dd986ae",
   "metadata": {},
   "outputs": [
    {
     "data": {
      "text/plain": [
       "Array([  2.2416224,   3.1944244, 130.45572  ,  12.588251 ,  63.248543 ,\n",
       "        63.534096 ,  59.827858 ,  63.723503 ,  18.115013 ,  62.018692 ,\n",
       "        62.45239  ,  62.20935  ,  61.99535  ,   8.457294 ], dtype=float32)"
      ]
     },
     "execution_count": 15,
     "metadata": {},
     "output_type": "execute_result"
    }
   ],
   "source": [
    "jnp.array(samples['P'])\n"
   ]
  },
  {
   "cell_type": "code",
   "execution_count": null,
   "id": "f3ba980a",
   "metadata": {},
   "outputs": [],
   "source": []
  }
 ],
 "metadata": {
  "kernelspec": {
   "display_name": "thejoker",
   "language": "python",
   "name": "python3"
  },
  "language_info": {
   "codemirror_mode": {
    "name": "ipython",
    "version": 3
   },
   "file_extension": ".py",
   "mimetype": "text/x-python",
   "name": "python",
   "nbconvert_exporter": "python",
   "pygments_lexer": "ipython3",
   "version": "3.11.13"
  }
 },
 "nbformat": 4,
 "nbformat_minor": 5
}
